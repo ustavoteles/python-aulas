{
 "cells": [
  {
   "cell_type": "code",
   "execution_count": 28,
   "metadata": {},
   "outputs": [
    {
     "name": "stdout",
     "output_type": "stream",
     "text": [
      "Será gerado uma senha única, é necessário o seu nome e uma data.\n",
      "Sua senha será as 3 primeiras letras do seu nome\n",
      "Os dois primeiros dígitos do ano.\n",
      "O número de caracteres do nome completo (incluindo espaços).\n",
      "Exemplo: Para um usuário chamado \"Ana Beatriz Costa\" e \"15/08/1990\", a senha seria: Ana19 17.\n",
      "Sua senha é Ana1917\n"
     ]
    }
   ],
   "source": [
    "print('Será gerado uma senha única, é necessário o seu nome e uma data.')\n",
    "print('Sua senha será as 3 primeiras letras do seu nome')\n",
    "print('Os dois primeiros dígitos do ano.')\n",
    "print('O número de caracteres do nome completo (incluindo espaços).')\n",
    "print('Exemplo: Para um usuário chamado \"Ana Beatriz Costa\" e \"15/08/1990\", a senha seria: Ana1917.')\n",
    "\n",
    "name = str(input('Digite o seu nome: '))\n",
    "\n",
    "date = str(input('Digite uma data com dia/mês/ano'))\n",
    "\n",
    "dateSliced=date[slice(6,8)]\n",
    "\n",
    "nameSliced = name[slice(0,3)]\n",
    "passwordLen = len(name)\n",
    "\n",
    "password=nameSliced+dateSliced+str(passwordLen)\n",
    "\n",
    "print(f'Sua senha é {password}')\n",
    "\n",
    "#nomeSenha = nome.split(0,2)\n",
    "#print(f'{nomeSenha}.split(2)')\n",
    "\n",
    "#data =str(input('Digite uma data com dia/mês/ano'))"
   ]
  }
 ],
 "metadata": {
  "kernelspec": {
   "display_name": "base",
   "language": "python",
   "name": "python3"
  },
  "language_info": {
   "codemirror_mode": {
    "name": "ipython",
    "version": 3
   },
   "file_extension": ".py",
   "mimetype": "text/x-python",
   "name": "python",
   "nbconvert_exporter": "python",
   "pygments_lexer": "ipython3",
   "version": "3.12.4"
  }
 },
 "nbformat": 4,
 "nbformat_minor": 2
}
