{
 "cells": [
  {
   "cell_type": "code",
   "execution_count": 9,
   "metadata": {},
   "outputs": [
    {
     "ename": "ValueError",
     "evalue": "could not convert string to float: ''",
     "output_type": "error",
     "traceback": [
      "\u001b[1;31m---------------------------------------------------------------------------\u001b[0m",
      "\u001b[1;31mValueError\u001b[0m                                Traceback (most recent call last)",
      "Cell \u001b[1;32mIn[9], line 1\u001b[0m\n\u001b[1;32m----> 1\u001b[0m reais \u001b[38;5;241m=\u001b[39m \u001b[38;5;28mfloat\u001b[39m(\u001b[38;5;28minput\u001b[39m(\u001b[38;5;124m'\u001b[39m\u001b[38;5;124mDigite o valor em reais que será convertido: \u001b[39m\u001b[38;5;124m'\u001b[39m))\n\u001b[0;32m      3\u001b[0m dolar \u001b[38;5;241m=\u001b[39m reais \u001b[38;5;241m/\u001b[39m \u001b[38;5;241m5.30\u001b[39m\n\u001b[0;32m      4\u001b[0m euro \u001b[38;5;241m=\u001b[39m reais \u001b[38;5;241m/\u001b[39m \u001b[38;5;241m5.80\u001b[39m\n",
      "\u001b[1;31mValueError\u001b[0m: could not convert string to float: ''"
     ]
    }
   ],
   "source": [
    "reais = float(input('Digite o valor em reais que será convertido: '))\n",
    "\n",
    "dolar = reais / 5.30\n",
    "euro = reais / 5.80\n",
    "\n",
    "\n",
    "print(f'Você digitou {reais:.2f} em reais!')\n",
    "print (f'Convertido em dólár: {dolar:.2f} ')\n",
    "print(f'Convertido em euro:{euro:.2f} ')"
   ]
  }
 ],
 "metadata": {
  "kernelspec": {
   "display_name": "base",
   "language": "python",
   "name": "python3"
  },
  "language_info": {
   "codemirror_mode": {
    "name": "ipython",
    "version": 3
   },
   "file_extension": ".py",
   "mimetype": "text/x-python",
   "name": "python",
   "nbconvert_exporter": "python",
   "pygments_lexer": "ipython3",
   "version": "3.12.4"
  }
 },
 "nbformat": 4,
 "nbformat_minor": 2
}
