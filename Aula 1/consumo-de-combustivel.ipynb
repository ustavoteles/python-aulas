{
 "cells": [
  {
   "cell_type": "code",
   "execution_count": 8,
   "metadata": {},
   "outputs": [
    {
     "name": "stdout",
     "output_type": "stream",
     "text": [
      "Distância: 600\n",
      "Consumo médio do carro: 12 km/L\n",
      "Preço do litro de combustível: R$6.00\n",
      "Quantidade de combustível necessária 50 litros\n",
      "Custo total da viagem:300.00\n"
     ]
    }
   ],
   "source": [
    "km = int(input('Digite a distância percorrida em kms'))\n",
    "print(f'Distância: {km} km')\n",
    "\n",
    "consumo = float(input('Digite o consumo médio do seu carro'))\n",
    "print(f'Consumo médio do carro: {consumo:.0f} km/L')\n",
    "\n",
    "combustivel=float(input('Digite o valor do preço do combustível: '))\n",
    "print(f'Preço do litro de combustível: R${combustivel:.2f}')\n",
    "\n",
    "litros = km/consumo\n",
    "custoViagem = (km/consumo)*combustivel\n",
    "\n",
    "print(f'Quantidade de combustível necessária {litros:.0f} litros')\n",
    "print(f'Custo total da viagem: $ {custoViagem:.2f}')"
   ]
  }
 ],
 "metadata": {
  "kernelspec": {
   "display_name": "base",
   "language": "python",
   "name": "python3"
  },
  "language_info": {
   "codemirror_mode": {
    "name": "ipython",
    "version": 3
   },
   "file_extension": ".py",
   "mimetype": "text/x-python",
   "name": "python",
   "nbconvert_exporter": "python",
   "pygments_lexer": "ipython3",
   "version": "3.12.4"
  }
 },
 "nbformat": 4,
 "nbformat_minor": 2
}
