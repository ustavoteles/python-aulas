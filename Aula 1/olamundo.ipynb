{
 "cells": [
  {
   "cell_type": "code",
   "execution_count": 6,
   "metadata": {},
   "outputs": [
    {
     "name": "stdout",
     "output_type": "stream",
     "text": [
      "A sua media de despesas mensais é de R$ 12000.00\n",
      "A sua renda anual é de R$ 12000.00\n"
     ]
    }
   ],
   "source": [
    "renda = float(input('Digite a sua renda: ')) \n",
    "\n",
    "despesa1 = float(input('Digite o valor da sua despesa estimada do primeiro mês'))\n",
    "despesa2 = float(input('Digite o valor da sua despesa estimada do segundo mês'))\n",
    "despesa3 = float(input('Digite o valor da sua despesa estimada do terceiro mês'))\n",
    "\n",
    "media = (despesa1+despesa2+despesa3)/3\n",
    "\n",
    "saldoAnual = (renda-media)*12\n",
    "\n",
    "print(f'A sua media de despesas mensais é de R$ {media:.2f}')\n",
    "print(f'A sua renda anual é de R$ {saldoAnual:.2f}')"
   ]
  }
 ],
 "metadata": {
  "kernelspec": {
   "display_name": "base",
   "language": "python",
   "name": "python3"
  },
  "language_info": {
   "codemirror_mode": {
    "name": "ipython",
    "version": 3
   },
   "file_extension": ".py",
   "mimetype": "text/x-python",
   "name": "python",
   "nbconvert_exporter": "python",
   "pygments_lexer": "ipython3",
   "version": "undefined.undefined.undefined"
  }
 },
 "nbformat": 4,
 "nbformat_minor": 2
}
